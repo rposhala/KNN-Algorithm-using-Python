{
  "nbformat": 4,
  "nbformat_minor": 0,
  "metadata": {
    "colab": {
      "name": "KNN.ipynb",
      "provenance": [],
      "authorship_tag": "ABX9TyNKter2QYSj4W3Nxsz317VQ",
      "include_colab_link": true
    },
    "kernelspec": {
      "name": "python3",
      "display_name": "Python 3"
    }
  },
  "cells": [
    {
      "cell_type": "markdown",
      "metadata": {
        "id": "view-in-github",
        "colab_type": "text"
      },
      "source": [
        "<a href=\"https://colab.research.google.com/github/rposhala/KNN-Algorithm-using-Python/blob/master/KNN.ipynb\" target=\"_parent\"><img src=\"https://colab.research.google.com/assets/colab-badge.svg\" alt=\"Open In Colab\"/></a>"
      ]
    },
    {
      "cell_type": "code",
      "metadata": {
        "id": "j2phtmOMDE30",
        "colab_type": "code",
        "colab": {}
      },
      "source": [
        "#loading libraries\n",
        "import numpy as np\n",
        "import pandas as pd"
      ],
      "execution_count": 0,
      "outputs": []
    },
    {
      "cell_type": "markdown",
      "metadata": {
        "id": "ETvV6O7GGBAK",
        "colab_type": "text"
      },
      "source": [
        "KNN algorithm using NumPy"
      ]
    },
    {
      "cell_type": "code",
      "metadata": {
        "id": "k7RkltlIFjXJ",
        "colab_type": "code",
        "colab": {}
      },
      "source": [
        "def KNN(X_train,X_test,Y_train,k):\n",
        "    \n",
        "    c = len(X_test)\n",
        "    \n",
        "    dis = []\n",
        "    x_train_norm = (X_train - np.mean(X_train,axis = 0)[np.newaxis,:])/np.std(X_train,axis=0)[np.newaxis,:] ## normalising the train data\n",
        "    x_test_norm = (X_test - np.mean(X_test,axis = 0)[np.newaxis,:])/np.std(X_test,axis=0)[np.newaxis,:] ## normalising the test data\n",
        "    ## KNN code \n",
        "    for i in x_test_norm :\n",
        "        dis.append(np.linalg.norm(i-x_train_norm,axis = 1)) ## generating a distance matrix\n",
        "    labels = np.tile(Y_train,(c,1))[np.arange(c)[:, np.newaxis],np.argsort(dis , axis = 1)][:,:k]    ## picking the nearest labels for all test points based on k value\n",
        "    y_pred = np.argmax(np.apply_along_axis(np.bincount, axis=1, arr= labels,minlength = np.amax(y_train)+1),axis = 1)    ## picking a label for all test points\n",
        "    ## KNN code\n",
        "    return y_pred"
      ],
      "execution_count": 0,
      "outputs": []
    },
    {
      "cell_type": "markdown",
      "metadata": {
        "id": "EG_39elgJ-t1",
        "colab_type": "text"
      },
      "source": [
        "Function defined to calculate Accuracy"
      ]
    },
    {
      "cell_type": "code",
      "metadata": {
        "id": "oKjHsS1pJjlx",
        "colab_type": "code",
        "colab": {}
      },
      "source": [
        "def Accuracy(y_true,y_pred):\n",
        "\n",
        "    nppred = np.asarray(y_pred)\n",
        "    c = y_true - nppred\n",
        "    misclass = np.count_nonzero(c)\n",
        "    test_len = len(y_true)\n",
        "    accuracy = 1 - (misclass/test_len)\n",
        "    return accuracy\n",
        "    "
      ],
      "execution_count": 0,
      "outputs": []
    },
    {
      "cell_type": "markdown",
      "metadata": {
        "id": "GSh8pEIRKGKh",
        "colab_type": "text"
      },
      "source": [
        "Function defined to calculate Recall"
      ]
    },
    {
      "cell_type": "code",
      "metadata": {
        "id": "KDPHwCQNJoEc",
        "colab_type": "code",
        "colab": {}
      },
      "source": [
        "def Recall(y_true,y_pred):\n",
        "\n",
        "    confusion_matrix = ConfusionMatrix(y_true,y_pred)\n",
        "    macro_recall = np.sum(np.divide(np.diag(confusion_matrix),np.sum(confusion_matrix,axis=1)))/len(confusion_matrix)\n",
        "    return macro_recall"
      ],
      "execution_count": 0,
      "outputs": []
    },
    {
      "cell_type": "markdown",
      "metadata": {
        "id": "mo6ZYNV2KI-z",
        "colab_type": "text"
      },
      "source": [
        "Function defined to calculate Precision"
      ]
    },
    {
      "cell_type": "code",
      "metadata": {
        "id": "gQr6fzikJqPL",
        "colab_type": "code",
        "colab": {}
      },
      "source": [
        "\n",
        "def Precision(y_true,y_pred):\n",
        "\n",
        "    confusion_matrix = ConfusionMatrix(y_true,y_pred)\n",
        "    macro_precision = np.sum(np.divide(np.diag(confusion_matrix),np.sum(confusion_matrix,axis=0)))/len(confusion_matrix)\n",
        "    return macro_precision"
      ],
      "execution_count": 0,
      "outputs": []
    },
    {
      "cell_type": "markdown",
      "metadata": {
        "id": "GGoj8vVhKLj9",
        "colab_type": "text"
      },
      "source": [
        "Loading a dataset using Pandas to test the KNN algorithm"
      ]
    },
    {
      "cell_type": "code",
      "metadata": {
        "id": "MiEA6qU5JJ0f",
        "colab_type": "code",
        "colab": {}
      },
      "source": [
        "np.random.seed(4563)\n",
        "data = pd.read_csv(\"data.csv\", header = None , skiprows = 1)\n",
        "dataframe = pd.DataFrame()\n",
        "dataframe = pd.DataFrame(data)\n",
        "Y = dataframe.pop(dataframe.columns[-1])\n",
        "ind = np.random.choice(len(dataframe),len(dataframe)*8//10,replace=False)\n",
        "df = np.asarray(dataframe)\n",
        "label = np.asarray(Y)\n",
        "X_train = df[ind]\n",
        "X_test = np.delete(df,ind,axis = 0)\n",
        "Y_train = label[ind]\n",
        "Y_test = np.delete(label,ind,axis = 0)\n",
        "# train_len = len(x_train)\n",
        "# test_len = len(x_test)\n",
        "# col_len = x_train.shape[1]\n",
        "x_train_norm = (X_train - np.mean(X_train,axis = 0)[np.newaxis,:])/np.std(X_train,axis=0)[np.newaxis,:]\n",
        "x_test_norm = (X_test - np.mean(X_test,axis = 0)[np.newaxis,:])/np.std(X_test,axis=0)[np.newaxis,:]"
      ],
      "execution_count": 0,
      "outputs": []
    },
    {
      "cell_type": "markdown",
      "metadata": {
        "id": "YI12l2SqKVXG",
        "colab_type": "text"
      },
      "source": [
        "Displaying calculated Accuracy, Precision, Recall"
      ]
    },
    {
      "cell_type": "code",
      "metadata": {
        "id": "M2C3kYyYJcL9",
        "colab_type": "code",
        "colab": {}
      },
      "source": [
        "y_pred_knn = KNN(x_train_norm,x_test_norm,Y_train,k=13)\n",
        "print(\"Accuracy :\",Accuracy(Y_test,y_pred_knn))\n",
        "print(\"Precision :\",Precision(Y_test,y_pred_knn))\n",
        "print(\"Recall\",Recall(Y_test,y_pred_knn))"
      ],
      "execution_count": 0,
      "outputs": []
    },
    {
      "cell_type": "markdown",
      "metadata": {
        "id": "207D8rcnLMts",
        "colab_type": "text"
      },
      "source": [
        "******************** The end ***********************"
      ]
    },
    {
      "cell_type": "markdown",
      "metadata": {
        "id": "BPI3HHrfNXMw",
        "colab_type": "text"
      },
      "source": [
        "   .."
      ]
    },
    {
      "cell_type": "markdown",
      "metadata": {
        "id": "C-nRzo_ZNapj",
        "colab_type": "text"
      },
      "source": [
        ".."
      ]
    },
    {
      "cell_type": "markdown",
      "metadata": {
        "id": "13BMbNvoKeow",
        "colab_type": "text"
      },
      "source": [
        "\n",
        "Rough Work generated while created an optimal code for KNN algorithm implementation"
      ]
    },
    {
      "cell_type": "code",
      "metadata": {
        "id": "yTmonUx_IbBE",
        "colab_type": "code",
        "colab": {}
      },
      "source": [
        "a = [1,2,3]\n",
        "an = (a - np.mean (a))/np.std(a)\n",
        "b = [[1,2,3],[7,5,2]]\n",
        "c = np.mean(b , axis = 1)\n",
        "d = np.std(b, axis=1)\n",
        "e = [7,5,2]\n",
        "en = (e-np.mean(e))/np.std(e)\n",
        "bn = (b - np.mean(b , axis = 0)[np.newaxis,:])/np.std(b, axis=0)[np.newaxis,:]\n",
        "print(b,bn)\n",
        "# (b - c[:,np.newaxis])/(np.max(b,axis = 1)-np.min(b,axis = 1))[:,np.newaxis]\n",
        "# np.max(b,axis = 1)"
      ],
      "execution_count": 0,
      "outputs": []
    },
    {
      "cell_type": "code",
      "metadata": {
        "id": "3c6YPdcQIjsH",
        "colab_type": "code",
        "colab": {}
      },
      "source": [
        "qk = 100\n",
        "pred_labels = []\n",
        "c = test_len\n",
        "dis = []\n",
        "\n",
        "temp = 300\n",
        "layered_x_train = np.tile(x_train,(temp,1,1))\n",
        "j = 0\n",
        "rem = c%temp\n",
        "if rem != 0:\n",
        "  temp_layer = layered_x_train[:rem,:,:]\n",
        "  y = x_test[:rem]\n",
        "  rem_s = np.swapaxes(np.tile(y,(train_len,1,1)),0,1)  \n",
        "  dis.append(np.linalg.norm(rem_s-temp_layer,axis = 1))\n",
        "  # for i in range(rem):\n",
        "  #   dis.append(np.linalg.norm(s-x_train,axis = 1))\n",
        "  j = rem\n",
        "\n",
        "# print(layered_x_train.shape)\n",
        "while(j<c):\n",
        "  x = x_test[j:j+temp]\n",
        "  s = np.swapaxes(np.tile(x,(train_len,1,1)),0,1)\n",
        "  # print(s.shape)\n",
        "  j+=temp\n",
        "  dis.extend(np.linalg.norm(s-layered_x_train,axis = 2))\n",
        "dis = np.asarray(dis)\n",
        "for i in x_test :\n",
        "  dis.append(np.linalg.norm(i-x_train,axis = 1))\n",
        "\n",
        "\n",
        "maxi = np.amax(y_train)+1\n",
        "print(type(dis))\n",
        "j = np.argsort(dis , axis = 1)\n",
        "print(j.shape)\n",
        "we = np.repeat(y_train[np.newaxis,:],c,axis = 0)\n",
        "alterwe = np.tile(y_train,(c,1))\n",
        "print(we.shape)\n",
        "rows = np.arange(c)\n",
        "print(rows.shape)\n",
        "labels = we[rows[:, np.newaxis],j]\n",
        "print(labels.shape)\n",
        "\n",
        "labels = np.tile(y_train,(c,1))[np.arange(c)[:, np.newaxis],np.argsort(dis , axis = 1)][:,:k]\n",
        "\n",
        "labels = labels[:,:k]\n",
        "print(labels.shape)\n",
        "\n",
        "pred_labels = np.argmax(np.apply_along_axis(np.bincount, axis=1, arr= labels,minlength = np.amax(y_train)+1),axis = 1)\n",
        "\n",
        "print(pred_labels)\n",
        "\n",
        "d[rows[:, np.newaxis],i]\n",
        "labels = y_train[np.argsort(dis , axis = 1)]\n",
        "labels = np.ndarray.tolist(labels[:,:k])\n",
        "pred_labels.append(max(labels, key = labels.count))\n",
        "  if c == 5:\n",
        "    break\n",
        "print(labels)\n",
        "0.8746337890625\n",
        "nppred = np.asarray(pred_labels)\n",
        "c = y_test - nppred\n",
        "misclass = np.count_nonzero(c)\n",
        "error = misclass/test_len\n",
        "print(error(pred_labels))"
      ],
      "execution_count": 0,
      "outputs": []
    },
    {
      "cell_type": "code",
      "metadata": {
        "id": "rFX3FHFXIw__",
        "colab_type": "code",
        "colab": {}
      },
      "source": [
        "k = 13\n",
        "pred_labels = []\n",
        "c = 0\n",
        "for i in x_test :\n",
        "  c+=1\n",
        "  dis = np.linalg.norm(i-x_train,axis = 1)\n",
        "  # temp = list(zip(y_train,np.linalg.norm(i-x_train,axis = 1)))\n",
        "  # temp = sorted(temp, key=lambda temp: temp[1])\n",
        "  labels = y_train[np.argsort(dis)]\n",
        "  labels = np.ndarray.tolist(labels[:k])\n",
        "  pred_labels.append(max(labels, key = labels.count))\n",
        "  if c == 10:\n",
        "    break\n",
        "# print(len(pred_labels))\n",
        "# print(labels)\n",
        "print(pred_labels)\n",
        "nppred = np.asarray(pred_labels)\n",
        "c = y_test - nppred\n",
        "misclass = np.count_nonzero(c)\n",
        "error = misclass/test_len\n",
        "print(error(pred_labels))"
      ],
      "execution_count": 0,
      "outputs": []
    },
    {
      "cell_type": "code",
      "metadata": {
        "id": "OPl1u4RjLoe-",
        "colab_type": "code",
        "colab": {}
      },
      "source": [
        "y_test[:50]\n",
        "pred_labels = np.asarray(pred_labels)\n",
        "a = np.asarray(a)\n",
        "np.count_nonzero(a - pred_labels)\n",
        "## to get unique values and its count from a array\n",
        "unique,count = np.unique(y_train, return_counts=True)\n",
        "print(unique,count)\n",
        "np.amax(y_train)\n",
        "np.max(labels)\n",
        "test_len = 5400\n",
        "s = np.ceil(test_len/1000)\n",
        "for i in range(int(s)):\n",
        "  print(i)\n",
        "x_sample = x_test[:1000]\n",
        "x_sample_3d = np.repeat(x_sample[np.newaxis,:,:], train_len, axis=0)\n",
        "swaped = np.swapaxes(x_sample_3d,0,1)\n",
        "swaped.shape\n",
        "i=1\n",
        "while(i<8):\n",
        "  \n",
        "  print(i,i-1)\n",
        "  i += 2\n",
        "c = 9\n",
        "if c%2 != 0:\n",
        "  print(\"even\")\n",
        "15%8"
      ],
      "execution_count": 0,
      "outputs": []
    },
    {
      "cell_type": "code",
      "metadata": {
        "id": "EhR36vVHL8Oc",
        "colab_type": "code",
        "colab": {}
      },
      "source": [
        "a = [[1,2,3,4],[1,3,3,5],[3,4,3,4]]\n",
        "npa = np.asarray(a)\n",
        "npb = np.asarray([[1,3,3,5],[1,2,3,4],[0,0,3,4]])\n",
        "np.linalg.norm(npa-npb,axis =1)\n",
        "m = np.arange(8).reshape(2,2,2)\n",
        "# print(m)\n",
        "p = np.linalg.norm(m, axis=2)\n",
        "p[0]\n",
        "single_point = [3, 4]\n",
        "points = np.arange(20).reshape((10,2))\n",
        "\n",
        "dist = (points - single_point)\n",
        "t = np.asarray([[1],[2],[3]])\n",
        "w = t.transpose()\n",
        "e = np.repeat(w,2,axis = 0)\n",
        "# e = e.transpose()\n",
        "# e\n",
        "f = np.repeat(e,4,axis = 0).reshape(4,2,3)\n",
        "# f.reshape(4,2,3)\n",
        "# print(f)\n",
        "\n",
        "# np.linalg.norm(t,axis = 1)\n",
        "a = [[1,2,3],[4,5,6],[3,4,1]]\n",
        "ap = np.asarray(a)\n",
        "# r = np.repeat(ap,4,axis = 0).reshape(4,2,2)\n",
        "# r = np.repeat(ap[np.newaxis,:,:], 4, axis=0)\n",
        "r = np.tile(ap,(4,1,1))"
      ],
      "execution_count": 0,
      "outputs": []
    },
    {
      "cell_type": "code",
      "metadata": {
        "id": "HN8LVmIHMUKt",
        "colab_type": "code",
        "colab": {}
      },
      "source": [
        "e = [1,2,4]\n",
        "f = [7,5,2]\n",
        "g = [e,f]\n",
        "\n",
        "x = np.tile(g,(4,1,1))\n",
        "s = np.swapaxes(x,0,1)\n",
        "s"
      ],
      "execution_count": 0,
      "outputs": []
    },
    {
      "cell_type": "code",
      "metadata": {
        "id": "SbjR8PWoMfLH",
        "colab_type": "code",
        "colab": {}
      },
      "source": [
        "np.linalg.norm(w,axis = 2)"
      ],
      "execution_count": 0,
      "outputs": []
    },
    {
      "cell_type": "code",
      "metadata": {
        "id": "u79w1umsI44Y",
        "colab_type": "code",
        "colab": {}
      },
      "source": [
        "# splitting the data into train and test with 8:2 ratio\n",
        "# x_train, x_test, y_train, y_test = train_test_split(dataframe,Y , test_size=0.2)\n",
        "# changing pandas dataframe to numpy arrays\n",
        "# x_train = x_train.to_numpy()\n",
        "# x_test = x_test.to_numpy()\n",
        "# y_train = y_train.to_numpy()\n",
        "# y_test = y_test.to_numpy()\n",
        "## storing train data and test data lengths\n",
        "train_len = len(x_train)\n",
        "test_len = len(x_test)\n",
        "col_len = x_train.shape[1]\n",
        "# broadcasting x_train and y_train to higher 3-Dimension\n",
        "# x_train_3d = np.repeat(x_train,len(x_test),axis = 0).reshape(test_len,train_len,col_len)\n",
        "# print(x_train_3d.shape)\n",
        "# x_train_3d = np.repeat(x_train[np.newaxis,:,:], len(x_test), axis=0)\n",
        "# np.repeat(e[np.newaxis,:,:], 4, axis=0)\n",
        "ind = np.random.choice(len(dataframe),len(dataframe)*8//10,replace=False)\n",
        "dataframe = dataframe.to_numpy()\n",
        "Y = Y.to_numpy()\n",
        "x_train = dataframe[ind]\n",
        "x_test = np.delete(dataframe,ind,axis = 0)\n",
        "y_train = Y[ind]\n",
        "y_test = np.delete(Y,ind,axis = 0)\n",
        "\n",
        "## normalizing the train and test data \n",
        "x_train_norm = (x_train - np.mean(x_train,axis = 0)[np.newaxis,:])/np.std(x_train,axis=0)[np.newaxis,:]\n",
        "x_test_norm = (x_test - np.mean(x_test,axis = 0)[np.newaxis,:])/np.std(x_test,axis=0)[np.newaxis,:]\n",
        "# print(x_train_norm.shape,x_test_norm.shape)"
      ],
      "execution_count": 0,
      "outputs": []
    }
  ]
}